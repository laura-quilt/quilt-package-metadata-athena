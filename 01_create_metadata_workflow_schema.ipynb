{
 "cells": [
  {
   "cell_type": "markdown",
   "metadata": {},
   "source": [
    "# Tutorial 1: Create a Metadata Schema & Workflow \n",
    "\n",
    "This schema is specific to metadata downloaded for the raw RNA-seq CCLE samples, obtained from the SRA project & cBioportal. However, we have developed two more generic NGS metadata schemas, "
   ]
  },
  {
   "cell_type": "markdown",
   "metadata": {},
   "source": [
    "\n"
   ]
  },
  {
   "cell_type": "markdown",
   "metadata": {},
   "source": [
    "# Config.yml\n",
    "\n",
    "```yaml\n",
    "version:\n",
    "  base: \"1\"\n",
    "  catalog: \"1\"\n",
    "is_workflow_required: true\n",
    "workflows:\n",
    "  sra-raw-data:\n",
    "    name: Upload raw data obtained from the Sequence Read Archive (SRA)\n",
    "    metadata_schema: sra-raw-data\n",
    "    handle_pattern: ^ccle/20[0-9]{6}_PRJNA[0-9]{6}_SRR[0-9]{7}$\n",
    "    is_message_required: true\n",
    "schemas:\n",
    "  sra-raw-data:\n",
    "    url: s3://quilt-example-bucket/ccle/workflows/sra-raw-data.schema.json\n",
    "```"
   ]
  },
  {
   "cell_type": "markdown",
   "metadata": {},
   "source": [
    "##\n",
    "\n",
    "```json\n",
    "\n",
    "test\n",
    "```"
   ]
  },
  {
   "cell_type": "markdown",
   "metadata": {},
   "source": []
  }
 ],
 "metadata": {
  "language_info": {
   "name": "python"
  }
 },
 "nbformat": 4,
 "nbformat_minor": 2
}
