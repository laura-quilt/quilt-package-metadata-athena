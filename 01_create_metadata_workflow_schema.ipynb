{
 "cells": [
  {
   "cell_type": "markdown",
   "metadata": {},
   "source": [
    "# Tutorial 1: Create a Metadata Schema & Workflow \n",
    "\n",
    "This schema is specific to metadata downloaded for the raw RNA-seq CCLE samples, obtained from the SRA project & cBioportal. However, we have developed two more generic NGS metadata schemas, "
   ]
  },
  {
   "cell_type": "markdown",
   "metadata": {},
   "source": []
  }
 ],
 "metadata": {
  "language_info": {
   "name": "python"
  }
 },
 "nbformat": 4,
 "nbformat_minor": 2
}
