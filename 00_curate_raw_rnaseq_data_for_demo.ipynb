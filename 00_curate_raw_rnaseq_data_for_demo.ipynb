{
 "cells": [
  {
   "cell_type": "markdown",
   "metadata": {},
   "source": [
    "# Tutorial 0: Curate Raw RNA-seq Data\n",
    "\n",
    "In this tutorial we will download publicly available raw RNA-sequencing data, in the form of fastqs, from the Cancer Cell Line Encyclopedia (CCLE) Sequence Read Archive (SRA) repository. This CCLE expression dataset is for use in the demo, and will serve as the basis for generating raw data Quilt packages, and input to Nextflow nf-core pipelines. If available, you can sub in your in-house datasets in place of the demo CCLE dataset for a more practical use case tailored to your company's platform. Although this demo will be centered around an RNA-seq expression dataset and the corresponding `nf-core/rna-seq` pipeline, the principles and methods underlying the demo are generalizable across -omics datasets. "
   ]
  },
  {
   "cell_type": "markdown",
   "metadata": {
    "vscode": {
     "languageId": "plaintext"
    }
   },
   "source": [
    "# 1. Set Up\n"
   ]
  },
  {
   "cell_type": "code",
   "execution_count": 1,
   "metadata": {},
   "outputs": [],
   "source": [
    "import pandas as pd\n",
    "import matplotlib.pyplot as plt\n",
    "import quilt3 as quilt3\n",
    "import numpy as np\n",
    "import glob\n",
    "import os\n",
    "import tqdm as tqdm"
   ]
  },
  {
   "cell_type": "markdown",
   "metadata": {},
   "source": [
    "# 2. Load RNA s\n",
    "\n",
    "First, we downloaded "
   ]
  },
  {
   "cell_type": "code",
   "execution_count": null,
   "metadata": {},
   "outputs": [],
   "source": []
  }
 ],
 "metadata": {
  "kernelspec": {
   "display_name": "base",
   "language": "python",
   "name": "python3"
  },
  "language_info": {
   "codemirror_mode": {
    "name": "ipython",
    "version": 3
   },
   "file_extension": ".py",
   "mimetype": "text/x-python",
   "name": "python",
   "nbconvert_exporter": "python",
   "pygments_lexer": "ipython3",
   "version": "3.11.5"
  }
 },
 "nbformat": 4,
 "nbformat_minor": 2
}
