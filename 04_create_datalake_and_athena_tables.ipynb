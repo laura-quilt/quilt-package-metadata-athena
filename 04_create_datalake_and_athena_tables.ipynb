{
 "cells": [
  {
   "cell_type": "markdown",
   "metadata": {},
   "source": [
    "# Tutorial 4: Create datalake and Athena tables"
   ]
  },
  {
   "cell_type": "code",
   "execution_count": null,
   "metadata": {},
   "outputs": [],
   "source": [
    "import boto3 as boto3"
   ]
  },
  {
   "cell_type": "markdown",
   "metadata": {},
   "source": [
    "# Connect to Athena"
   ]
  },
  {
   "cell_type": "code",
   "execution_count": null,
   "metadata": {},
   "outputs": [],
   "source": [
    "bucket_name = \"s3://quilt-example-bucket/ccle\""
   ]
  },
  {
   "cell_type": "code",
   "execution_count": 1,
   "metadata": {},
   "outputs": [],
   "source": [
    "# Connect to Athena\n",
    "# conn = connect(aws_access_key_id=aws_access_key_id,\n",
    "#                aws_secret_access_key=aws_secret_access_key,\n",
    "#                region_name=region_name,\n",
    "#                s3_staging_dir= bucket_name)"
   ]
  },
  {
   "cell_type": "markdown",
   "metadata": {},
   "source": [
    "# Generate symlink datalake"
   ]
  },
  {
   "cell_type": "code",
   "execution_count": null,
   "metadata": {},
   "outputs": [],
   "source": [
    "s3 = boto3.resource('s3')\n",
    "bucket_name = \"quilt-example-bucket\"\n",
    "prefix = \"ccle/datalake\""
   ]
  },
  {
   "cell_type": "code",
   "execution_count": null,
   "metadata": {},
   "outputs": [],
   "source": [
    "# define the quant.sf files we want to use\n",
    "parse_keys = \"\"\"\n",
    "WITH extracted_data AS (\n",
    "    SELECT\n",
    "        timestamp,\n",
    "        logical_key,\n",
    "        regexp_extract(logical_key, '^[^/]+/([^/]+)/.*', 1) AS sample_id,\n",
    "        physical_key,\n",
    "        regexp_extract(physical_key, '^(.*?)\\?versionId=', 1) AS object_path\n",
    "    FROM\n",
    "        \"userathenadatabase-2htmlbiqyvry\".\"quilt-example-bucket_objects-view\"\n",
    "    WHERE\n",
    "        logical_key LIKE '%quant.sf'\n",
    ")\n",
    "SELECT\n",
    "    logical_key,\n",
    "    sample_id,\n",
    "    physical_key,\n",
    "    object_path\n",
    "FROM\n",
    "    extracted_data\n",
    "WHERE\n",
    "    sample_id LIKE 'SRR%';\n",
    "    AND timestamp = 'latest';\n",
    "\"\"\"\n",
    "\n",
    "cursor = conn.cursor()\n",
    "cursor.execute(parse_keys)"
   ]
  },
  {
   "cell_type": "code",
   "execution_count": null,
   "metadata": {},
   "outputs": [],
   "source": [
    "# generate a symlinks file for each file of interest\n",
    "for row in cursor:\n",
    "        sample_id = row[1]\n",
    "        run_id = row[3].split(\"/\")[4]\n",
    "        object_path = row[3]\n",
    "        s3.Bucket(bucket_name).put_object(Key=f\"{prefix}/run_id={run_id}/sample_id={sample_id}/symlink.txt\", Body=object_path)"
   ]
  },
  {
   "cell_type": "code",
   "execution_count": null,
   "metadata": {},
   "outputs": [],
   "source": []
  }
 ],
 "metadata": {
  "kernelspec": {
   "display_name": "base",
   "language": "python",
   "name": "python3"
  },
  "language_info": {
   "codemirror_mode": {
    "name": "ipython",
    "version": 3
   },
   "file_extension": ".py",
   "mimetype": "text/x-python",
   "name": "python",
   "nbconvert_exporter": "python",
   "pygments_lexer": "ipython3",
   "version": "3.11.5"
  }
 },
 "nbformat": 4,
 "nbformat_minor": 2
}
